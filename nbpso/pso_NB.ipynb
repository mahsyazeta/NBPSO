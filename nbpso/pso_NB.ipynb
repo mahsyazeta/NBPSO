{
 "cells": [
  {
   "cell_type": "code",
   "execution_count": null,
   "metadata": {},
   "outputs": [],
   "source": [
    "import pandas as pd\n",
    "import numpy as np\n",
    "import re\n",
    "import joblib\n",
    "import pickle\n",
    "from sklearn import model_selection\n",
    "from sklearn.naive_bayes import MultinomialNB\n",
    "from sklearn.naive_bayes import BernoulliNB\n",
    "from sklearn.naive_bayes import GaussianNB\n",
    "from sklearn.metrics import classification_report\n",
    "from sklearn.model_selection import StratifiedKFold\n",
    "from sklearn.model_selection import cross_val_score\n",
    "from sklearn.feature_extraction.text import TfidfVectorizer\n",
    "from sklearn.model_selection import train_test_split\n",
    "from sklearn.metrics import accuracy_score,confusion_matrix,f1_score,recall_score,precision_score\n",
    "import sklearn.metrics as metrics\n",
    "import matplotlib.pyplot as plt\n",
    "from wordcloud import WordCloud\n",
    "from PIL import Image\n",
    "import random\n",
    "import seaborn as sns\n",
    "\n",
    "#load data\n",
    "df = pd.read_csv('text_preprocessing/final_dataset.csv')\n",
    "df"
   ]
  },
  {
   "cell_type": "code",
   "execution_count": null,
   "metadata": {},
   "outputs": [],
   "source": [
    "#konversi sentimen positif =1 negatif= 0\n",
    "def convert_label_sentimen(label_sentimen):\n",
    "    if label_sentimen == \"positive\":\n",
    "        return 1\n",
    "    else:\n",
    "        return 0\n",
    "\n",
    "df['label_sentimen'] = df['Sentiment'].apply(convert_label_sentimen)\n",
    "df.drop(df.columns[[0]], axis= 1,inplace=True)\n",
    "df\n"
   ]
  },
  {
   "cell_type": "code",
   "execution_count": null,
   "metadata": {},
   "outputs": [],
   "source": [
    "X= df['tweet_tokens_stemmed'] \n",
    "y= df['label_sentimen']\n",
    "#k-fold cross validation(spliting data)\n",
    "kfold = StratifiedKFold(n_splits=10, random_state=42, shuffle=True)\n",
    "for train_idx, val_idx in kfold.split(X, y):\n",
    "    X_train, X_test = X[train_idx], X[val_idx]\n",
    "    y_train, y_test = y[train_idx], y[val_idx]\n",
    "    \n",
    "X_train.shape, X_test.shape, y_train.shape, y_test.shape\n"
   ]
  },
  {
   "cell_type": "code",
   "execution_count": null,
   "metadata": {},
   "outputs": [],
   "source": [
    "  # Vektorisasi text menggunakan TF-IDF\n",
    "tfidf_model = TfidfVectorizer(smooth_idf=False).fit(X_train)\n",
    "X_train = tfidf_model.transform(X_train)\n",
    "X_test = tfidf_model.transform(X_test)\n",
    "\n",
    "print(X_train,X_test)"
   ]
  },
  {
   "cell_type": "code",
   "execution_count": 151,
   "metadata": {},
   "outputs": [],
   "source": [
    "# Fungsi untuk mengevaluasi fitur\n",
    "def evaluate_features(X, y, indices, model):\n",
    "    X_subset = X[:, indices]\n",
    "    model.fit(X_subset, y)\n",
    "    predict = model.predict(X_subset)\n",
    "    return accuracy_score(y, predict)\n",
    "\n",
    "# Fungsi PSO untuk pemilihan fitur\n",
    "def pso_feature_selection(X, y, n_particles, n_iterations, model, learning_rate=0.5):\n",
    "    n_features = X.shape[1]\n",
    "    particles_position = np.random.choice([0, 1], size=(n_particles, n_features))\n",
    "    global_best_position = None\n",
    "    global_best_score = float('-inf')\n",
    "\n",
    "    for _ in range(n_iterations):\n",
    "        for particle_position in particles_position:\n",
    "            selected_indices = np.where(particle_position == 1)[0]\n",
    "            score = evaluate_features(X, y, selected_indices, model)\n",
    "\n",
    "            if score > global_best_score:\n",
    "                global_best_score = score\n",
    "                global_best_position = selected_indices\n",
    "\n",
    "        # Update particle positions\n",
    "        for particle_position in particles_position:\n",
    "            for i in range(len(particle_position)):\n",
    "                if np.random.rand() < 0.5:\n",
    "                    particle_position[i] = 1 if np.random.rand() < 0.5 else 0\n",
    "                else:\n",
    "                    velocity = 1 / (1 + np.exp(-particle_position[i]))\n",
    "                    particle_position[i] = 1 if np.random.rand() < velocity else 0\n",
    "\n",
    "    return global_best_position"
   ]
  },
  {
   "cell_type": "code",
   "execution_count": null,
   "metadata": {},
   "outputs": [],
   "source": [
    "# Pemilihan fitur menggunakan PSO\n",
    "n_particles = 20\n",
    "n_iterations = 50\n",
    "selected_indices = pso_feature_selection(X_train.toarray(), y_train, n_particles, n_iterations)\n",
    "selected_indices"
   ]
  },
  {
   "cell_type": "code",
   "execution_count": null,
   "metadata": {},
   "outputs": [],
   "source": [
    "# Memilih fitur terbaik untuk data training dan testing\n",
    "X_train_selected = X_train[:, selected_indices]\n",
    "X_test_selected = X_test[:, selected_indices]\n",
    "print(\"Isi X_train_selected:\")\n",
    "print(X_train_selected)\n",
    "print(\"\\nIsi X_test_selected:\")\n",
    "print(X_test_selected)"
   ]
  },
  {
   "cell_type": "markdown",
   "metadata": {},
   "source": [
    "MULTINOMIAL NAIVE BAYES"
   ]
  },
  {
   "cell_type": "code",
   "execution_count": 194,
   "metadata": {},
   "outputs": [
    {
     "data": {
      "text/plain": [
       "array([1, 1, 1, 1, 0, 0, 1, 1, 1, 1, 1, 1, 0, 0, 0, 0, 0, 0, 0, 1, 1, 1,\n",
       "       1, 0, 1, 0, 0, 0, 0, 1, 1, 1, 0, 1, 1, 0, 0, 1, 1, 0], dtype=int64)"
      ]
     },
     "execution_count": 194,
     "metadata": {},
     "output_type": "execute_result"
    }
   ],
   "source": [
    "#klasifikasi\n",
    "mnb_selected = MultinomialNB()\n",
    "mnb_selected.fit(X_train_selected, y_train)\n",
    "predict_selected = mnb_selected.predict(X_test_selected)\n",
    "predict_selected"
   ]
  },
  {
   "cell_type": "code",
   "execution_count": 195,
   "metadata": {},
   "outputs": [
    {
     "data": {
      "image/png": "[encoded data removed]",
      "text/plain": [
       "<Figure size 800x500 with 2 Axes>"
      ]
     },
     "metadata": {},
     "output_type": "display_data"
    }
   ],
   "source": [
    "#confusion matrix model\n",
    "f, ax = plt.subplots(figsize=(8,5))\n",
    "sns.heatmap(confusion_matrix(y_test, predict_selected), annot=True, fmt=\".0f\", ax=ax)\n",
    "plt.xlabel(\"Predicted Label\")\n",
    "plt.ylabel(\"True Label\")\n",
    "plt.show()"
   ]
  },
  {
   "cell_type": "code",
   "execution_count": 196,
   "metadata": {},
   "outputs": [
    {
     "name": "stdout",
     "output_type": "stream",
     "text": [
      "accuracy after PSO feature selection for Multinomial : \n",
      "85.0\n"
     ]
    }
   ],
   "source": [
    "# Skor akurasi model\n",
    "print('accuracy after PSO feature selection for Multinomial : ')\n",
    "print(accuracy_score(y_test, predict_selected)*100)"
   ]
  },
  {
   "cell_type": "markdown",
   "metadata": {},
   "source": [
    "BERNOULLI NAIVE BAYES"
   ]
  },
  {
   "cell_type": "code",
   "execution_count": 187,
   "metadata": {},
   "outputs": [],
   "source": [
    "#klasifikasi\n",
    "bnb_selected = BernoulliNB()\n",
    "bnb_selected.fit(X_train_selected, y_train)\n",
    "predict_selected_bernoulli = bnb_selected.predict(X_test_selected)"
   ]
  },
  {
   "cell_type": "code",
   "execution_count": 185,
   "metadata": {},
   "outputs": [
    {
     "data": {
      "image/png": "[encoded data removed]",
      "text/plain": [
       "<Figure size 800x500 with 2 Axes>"
      ]
     },
     "metadata": {},
     "output_type": "display_data"
    }
   ],
   "source": [
    "#confusion matrix model BernoulliNB\n",
    "f, ax = plt.subplots(figsize=(8,5))\n",
    "sns.heatmap(confusion_matrix(y_test, predict_selected_bernoulli), annot=True, fmt=\".0f\", ax=ax)\n",
    "plt.xlabel(\"Predicted Label\")\n",
    "plt.ylabel(\"True Label\")\n",
    "plt.title(\"Confusion Matrix for BernoulliNB\")\n",
    "plt.show()"
   ]
  },
  {
   "cell_type": "code",
   "execution_count": 184,
   "metadata": {},
   "outputs": [
    {
     "name": "stdout",
     "output_type": "stream",
     "text": [
      "Accuracy after PSO feature selection for BernoulliNB: \n",
      "75.0\n"
     ]
    }
   ],
   "source": [
    "print('Accuracy after PSO feature selection for BernoulliNB: ')\n",
    "print(accuracy_score(y_test, predict_selected_bernoulli)*100)"
   ]
  },
  {
   "cell_type": "markdown",
   "metadata": {},
   "source": [
    "GAUSSIAN NAIVE BAYES"
   ]
  },
  {
   "cell_type": "code",
   "execution_count": 234,
   "metadata": {},
   "outputs": [],
   "source": [
    "# Pemilihan fitur menggunakan PSO untuk GaussianNB\n",
    "n_particles = 10\n",
    "n_iterations = 50\n",
    "gaussian_nb = GaussianNB()\n",
    "selected_indices_gaussian = pso_feature_selection(X_train.toarray(), y_train, n_particles, n_iterations, gaussian_nb)"
   ]
  },
  {
   "cell_type": "code",
   "execution_count": 235,
   "metadata": {},
   "outputs": [],
   "source": [
    "# Memilih fitur terbaik untuk data training dan testing menggunakan GaussianNB\n",
    "X_train_selected_gaussian = X_train[:, selected_indices_gaussian]\n",
    "X_test_selected_gaussian = X_test[:, selected_indices_gaussian]\n"
   ]
  },
  {
   "cell_type": "code",
   "execution_count": 236,
   "metadata": {},
   "outputs": [],
   "source": [
    "# Klasifikasi menggunakan GaussianNB\n",
    "gaussian_nb_selected = GaussianNB()\n",
    "gaussian_nb_selected.fit(X_train_selected_gaussian.toarray(), y_train)\n",
    "predict_selected_gaussian = gaussian_nb_selected.predict(X_test_selected_gaussian.toarray())"
   ]
  },
  {
   "cell_type": "code",
   "execution_count": 239,
   "metadata": {},
   "outputs": [
    {
     "data": {
      "image/png": "[encoded data removed]",
      "text/plain": [
       "<Figure size 800x500 with 2 Axes>"
      ]
     },
     "metadata": {},
     "output_type": "display_data"
    }
   ],
   "source": [
    "#confusion matrix model GaussianNB\n",
    "f, ax = plt.subplots(figsize=(8,5))\n",
    "sns.heatmap(confusion_matrix(y_test, predict_selected_gaussian), annot=True, fmt=\".0f\", ax=ax)\n",
    "plt.xlabel(\"Predicted Label\")\n",
    "plt.ylabel(\"True Label\")\n",
    "plt.show()"
   ]
  },
  {
   "cell_type": "code",
   "execution_count": 238,
   "metadata": {},
   "outputs": [
    {
     "name": "stdout",
     "output_type": "stream",
     "text": [
      "Accuracy after PSO feature selection for GaussianNB: \n",
      "65.0\n"
     ]
    }
   ],
   "source": [
    "print('Accuracy after PSO feature selection for GaussianNB: ')\n",
    "print(accuracy_score(y_test, predict_selected_gaussian)*100)"
   ]
  }
 ],
 "metadata": {
  "kernelspec": {
   "display_name": "Python 3",
   "language": "python",
   "name": "python3"
  },
  "language_info": {
   "codemirror_mode": {
    "name": "ipython",
    "version": 3
   },
   "file_extension": ".py",
   "mimetype": "text/x-python",
   "name": "python",
   "nbconvert_exporter": "python",
   "pygments_lexer": "ipython3",
   "version": "3.11.1"
  }
 },
 "nbformat": 4,
 "nbformat_minor": 2
}
