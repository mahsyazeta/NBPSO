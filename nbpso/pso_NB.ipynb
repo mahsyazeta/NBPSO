{
 "cells": [
  {
   "cell_type": "code",
   "execution_count": 24,
   "metadata": {},
   "outputs": [
    {
     "data": {
      "text/html": [
       "<div>\n",
       "<style scoped>\n",
       "    .dataframe tbody tr th:only-of-type {\n",
       "        vertical-align: middle;\n",
       "    }\n",
       "\n",
       "    .dataframe tbody tr th {\n",
       "        vertical-align: top;\n",
       "    }\n",
       "\n",
       "    .dataframe thead th {\n",
       "        text-align: right;\n",
       "    }\n",
       "</style>\n",
       "<table border=\"1\" class=\"dataframe\">\n",
       "  <thead>\n",
       "    <tr style=\"text-align: right;\">\n",
       "      <th></th>\n",
       "      <th>Sentiment</th>\n",
       "      <th>tweet_tokens_stemmed</th>\n",
       "    </tr>\n",
       "  </thead>\n",
       "  <tbody>\n",
       "    <tr>\n",
       "      <th>0</th>\n",
       "      <td>positive</td>\n",
       "      <td>['undang', 'shanijkt', 'hitamputih', 'pemenang...</td>\n",
       "    </tr>\n",
       "    <tr>\n",
       "      <th>1</th>\n",
       "      <td>positive</td>\n",
       "      <td>['selamat', 'berbuka', 'puasa', 'semoga', 'ama...</td>\n",
       "    </tr>\n",
       "    <tr>\n",
       "      <th>2</th>\n",
       "      <td>positive</td>\n",
       "      <td>['trans', 'hitam', 'putih', 'penghargaan', 'no...</td>\n",
       "    </tr>\n",
       "    <tr>\n",
       "      <th>3</th>\n",
       "      <td>positive</td>\n",
       "      <td>['selamat', 'hitamputih']</td>\n",
       "    </tr>\n",
       "    <tr>\n",
       "      <th>4</th>\n",
       "      <td>positive</td>\n",
       "      <td>['asiknya', 'nonton', 'hitam', 'putih', 'trans']</td>\n",
       "    </tr>\n",
       "    <tr>\n",
       "      <th>...</th>\n",
       "      <td>...</td>\n",
       "      <td>...</td>\n",
       "    </tr>\n",
       "    <tr>\n",
       "      <th>395</th>\n",
       "      <td>negative</td>\n",
       "      <td>['banget', 'kesel', 'debat', 'pake', 'emosi', ...</td>\n",
       "    </tr>\n",
       "    <tr>\n",
       "      <th>396</th>\n",
       "      <td>negative</td>\n",
       "      <td>['miskin', 'miskin', 'sekolah', 'pungutan', 'l...</td>\n",
       "    </tr>\n",
       "    <tr>\n",
       "      <th>397</th>\n",
       "      <td>negative</td>\n",
       "      <td>['emosi', 'cepat', 'tua', 'nonton', 'emosi', '...</td>\n",
       "    </tr>\n",
       "    <tr>\n",
       "      <th>398</th>\n",
       "      <td>negative</td>\n",
       "      <td>['penampilan', 'kyk', 'preman', 'taunya', 'bki...</td>\n",
       "    </tr>\n",
       "    <tr>\n",
       "      <th>399</th>\n",
       "      <td>negative</td>\n",
       "      <td>['berbelitbelit', 'muter', 'buang', 'mutu']</td>\n",
       "    </tr>\n",
       "  </tbody>\n",
       "</table>\n",
       "<p>400 rows × 2 columns</p>\n",
       "</div>"
      ],
      "text/plain": [
       "    Sentiment                               tweet_tokens_stemmed\n",
       "0    positive  ['undang', 'shanijkt', 'hitamputih', 'pemenang...\n",
       "1    positive  ['selamat', 'berbuka', 'puasa', 'semoga', 'ama...\n",
       "2    positive  ['trans', 'hitam', 'putih', 'penghargaan', 'no...\n",
       "3    positive                          ['selamat', 'hitamputih']\n",
       "4    positive   ['asiknya', 'nonton', 'hitam', 'putih', 'trans']\n",
       "..        ...                                                ...\n",
       "395  negative  ['banget', 'kesel', 'debat', 'pake', 'emosi', ...\n",
       "396  negative  ['miskin', 'miskin', 'sekolah', 'pungutan', 'l...\n",
       "397  negative  ['emosi', 'cepat', 'tua', 'nonton', 'emosi', '...\n",
       "398  negative  ['penampilan', 'kyk', 'preman', 'taunya', 'bki...\n",
       "399  negative        ['berbelitbelit', 'muter', 'buang', 'mutu']\n",
       "\n",
       "[400 rows x 2 columns]"
      ]
     },
     "execution_count": 24,
     "metadata": {},
     "output_type": "execute_result"
    }
   ],
   "source": [
    "import pandas as pd\n",
    "import numpy as np\n",
    "import re\n",
    "import joblib\n",
    "import pickle\n",
    "from sklearn import model_selection\n",
    "from sklearn.naive_bayes import MultinomialNB, BernoulliNB, GaussianNB\n",
    "from sklearn.metrics import classification_report, confusion_matrix, accuracy_score, precision_score, recall_score\n",
    "from sklearn.model_selection import StratifiedKFold, cross_val_score\n",
    "from sklearn.feature_extraction.text import TfidfVectorizer\n",
    "import matplotlib.pyplot as plt\n",
    "from wordcloud import WordCloud\n",
    "from PIL import Image\n",
    "import seaborn as sns\n",
    "\n",
    "#load data\n",
    "df = pd.read_csv('text_preprocessing/final_dataset.csv')\n",
    "df"
   ]
  },
  {
   "cell_type": "code",
   "execution_count": 25,
   "metadata": {},
   "outputs": [
    {
     "data": {
      "text/html": [
       "<div>\n",
       "<style scoped>\n",
       "    .dataframe tbody tr th:only-of-type {\n",
       "        vertical-align: middle;\n",
       "    }\n",
       "\n",
       "    .dataframe tbody tr th {\n",
       "        vertical-align: top;\n",
       "    }\n",
       "\n",
       "    .dataframe thead th {\n",
       "        text-align: right;\n",
       "    }\n",
       "</style>\n",
       "<table border=\"1\" class=\"dataframe\">\n",
       "  <thead>\n",
       "    <tr style=\"text-align: right;\">\n",
       "      <th></th>\n",
       "      <th>tweet_tokens_stemmed</th>\n",
       "      <th>label_sentimen</th>\n",
       "    </tr>\n",
       "  </thead>\n",
       "  <tbody>\n",
       "    <tr>\n",
       "      <th>0</th>\n",
       "      <td>['undang', 'shanijkt', 'hitamputih', 'pemenang...</td>\n",
       "      <td>1</td>\n",
       "    </tr>\n",
       "    <tr>\n",
       "      <th>1</th>\n",
       "      <td>['selamat', 'berbuka', 'puasa', 'semoga', 'ama...</td>\n",
       "      <td>1</td>\n",
       "    </tr>\n",
       "    <tr>\n",
       "      <th>2</th>\n",
       "      <td>['trans', 'hitam', 'putih', 'penghargaan', 'no...</td>\n",
       "      <td>1</td>\n",
       "    </tr>\n",
       "    <tr>\n",
       "      <th>3</th>\n",
       "      <td>['selamat', 'hitamputih']</td>\n",
       "      <td>1</td>\n",
       "    </tr>\n",
       "    <tr>\n",
       "      <th>4</th>\n",
       "      <td>['asiknya', 'nonton', 'hitam', 'putih', 'trans']</td>\n",
       "      <td>1</td>\n",
       "    </tr>\n",
       "    <tr>\n",
       "      <th>...</th>\n",
       "      <td>...</td>\n",
       "      <td>...</td>\n",
       "    </tr>\n",
       "    <tr>\n",
       "      <th>395</th>\n",
       "      <td>['banget', 'kesel', 'debat', 'pake', 'emosi', ...</td>\n",
       "      <td>0</td>\n",
       "    </tr>\n",
       "    <tr>\n",
       "      <th>396</th>\n",
       "      <td>['miskin', 'miskin', 'sekolah', 'pungutan', 'l...</td>\n",
       "      <td>0</td>\n",
       "    </tr>\n",
       "    <tr>\n",
       "      <th>397</th>\n",
       "      <td>['emosi', 'cepat', 'tua', 'nonton', 'emosi', '...</td>\n",
       "      <td>0</td>\n",
       "    </tr>\n",
       "    <tr>\n",
       "      <th>398</th>\n",
       "      <td>['penampilan', 'kyk', 'preman', 'taunya', 'bki...</td>\n",
       "      <td>0</td>\n",
       "    </tr>\n",
       "    <tr>\n",
       "      <th>399</th>\n",
       "      <td>['berbelitbelit', 'muter', 'buang', 'mutu']</td>\n",
       "      <td>0</td>\n",
       "    </tr>\n",
       "  </tbody>\n",
       "</table>\n",
       "<p>400 rows × 2 columns</p>\n",
       "</div>"
      ],
      "text/plain": [
       "                                  tweet_tokens_stemmed  label_sentimen\n",
       "0    ['undang', 'shanijkt', 'hitamputih', 'pemenang...               1\n",
       "1    ['selamat', 'berbuka', 'puasa', 'semoga', 'ama...               1\n",
       "2    ['trans', 'hitam', 'putih', 'penghargaan', 'no...               1\n",
       "3                            ['selamat', 'hitamputih']               1\n",
       "4     ['asiknya', 'nonton', 'hitam', 'putih', 'trans']               1\n",
       "..                                                 ...             ...\n",
       "395  ['banget', 'kesel', 'debat', 'pake', 'emosi', ...               0\n",
       "396  ['miskin', 'miskin', 'sekolah', 'pungutan', 'l...               0\n",
       "397  ['emosi', 'cepat', 'tua', 'nonton', 'emosi', '...               0\n",
       "398  ['penampilan', 'kyk', 'preman', 'taunya', 'bki...               0\n",
       "399        ['berbelitbelit', 'muter', 'buang', 'mutu']               0\n",
       "\n",
       "[400 rows x 2 columns]"
      ]
     },
     "execution_count": 25,
     "metadata": {},
     "output_type": "execute_result"
    }
   ],
   "source": [
    "#konversi sentimen positif =1 negatif= 0\n",
    "def convert_label_sentimen(label_sentimen):\n",
    "    if label_sentimen == \"positive\":\n",
    "        return 1\n",
    "    else:\n",
    "        return 0\n",
    "\n",
    "df['label_sentimen'] = df['Sentiment'].apply(convert_label_sentimen)\n",
    "df.drop(df.columns[[0]], axis= 1,inplace=True)\n",
    "df\n"
   ]
  },
  {
   "cell_type": "code",
   "execution_count": 26,
   "metadata": {},
   "outputs": [],
   "source": [
    "X= df['tweet_tokens_stemmed'] \n",
    "y= df['label_sentimen']\n",
    "#k-fold cross validation(spliting data)\n",
    "kfold = StratifiedKFold(n_splits=10, random_state=42, shuffle=True)\n"
   ]
  },
  {
   "cell_type": "code",
   "execution_count": 27,
   "metadata": {},
   "outputs": [],
   "source": [
    "# Function to perform PSO feature selection\n",
    "def pso_feature_selection(X_train, y_train, n_particles, n_iterations, num_features):\n",
    "    num_samples, num_features = X_train.shape\n",
    "    bounds = [0, 1]  # Assuming the feature selection is binary (selected or not)\n",
    "    inertia = 0.8\n",
    "    cognitive_weight = 1.5\n",
    "    social_weight = 1.5\n",
    "\n",
    "    # Initialize PSO\n",
    "    num_particles = n_particles\n",
    "    dimensions = num_features\n",
    "    particles = np.random.rand(num_particles, dimensions)\n",
    "    velocities = np.random.rand(num_particles, dimensions)\n",
    "    best_positions = particles.copy()\n",
    "    best_scores = np.zeros(num_particles)\n",
    "\n",
    "    global_best_position = np.zeros(dimensions)\n",
    "    global_best_score = 0\n",
    "\n",
    "    for iteration in range(n_iterations):\n",
    "        for particle in range(num_particles):\n",
    "            # Evaluate fitness (accuracy) of current particle\n",
    "            selected_features = particles[particle] > 0.5\n",
    "            accuracy = evaluate_features(X_train, y_train, selected_features)\n",
    "\n",
    "            # Update particle's best position and score\n",
    "            if accuracy > best_scores[particle]:\n",
    "                best_scores[particle] = accuracy\n",
    "                best_positions[particle] = particles[particle].copy()\n",
    "\n",
    "            # Update global best position and score\n",
    "            if accuracy > global_best_score:\n",
    "                global_best_score = accuracy\n",
    "                global_best_position = particles[particle].copy()\n",
    "\n",
    "            # Update particle's velocity\n",
    "            r1 = np.random.rand(dimensions)\n",
    "            r2 = np.random.rand(dimensions)\n",
    "            velocities[particle] = (inertia * velocities[particle] +\n",
    "                                   cognitive_weight * r1 * (best_positions[particle] - particles[particle]) +\n",
    "                                   social_weight * r2 * (global_best_position - particles[particle]))\n",
    "\n",
    "            # Update particle's position\n",
    "            particles[particle] += velocities[particle]\n",
    "            particles[particle] = np.clip(particles[particle], bounds[0], bounds[1])\n",
    "\n",
    "    return global_best_position > 0.5\n",
    "\n",
    "# Function to evaluate features using selected features and classifier\n",
    "def evaluate_features(X_train, y_train, selected_features):\n",
    "    X_selected = X_train[:, selected_features]\n",
    "    clf = MultinomialNB()  # You can change the classifier here if needed\n",
    "    cv_results = cross_val_score(clf, X_selected, y_train, cv=kfold, scoring='accuracy')\n",
    "    return cv_results.mean()"
   ]
  },
  {
   "cell_type": "markdown",
   "metadata": {},
   "source": [
    "MULTINOMIAL NAIVE BAYES"
   ]
  },
  {
   "cell_type": "code",
   "execution_count": 28,
   "metadata": {},
   "outputs": [],
   "source": [
    "# Array penyimpan hasil K-10\n",
    "cv_accuracy_mnb = []\n",
    "cv_precision_mnb = []\n",
    "cv_recall_mnb = []"
   ]
  },
  {
   "cell_type": "code",
   "execution_count": 29,
   "metadata": {},
   "outputs": [],
   "source": [
    "for train_idx, test_idx in kfold.split(X, y):\n",
    "    X_train, X_test = X.iloc[train_idx], X.iloc[test_idx]\n",
    "    y_train, y_test = y.iloc[train_idx], y.iloc[test_idx]\n",
    "\n",
    "    # TF-IDF Vectorization\n",
    "    tfidf_model = TfidfVectorizer(smooth_idf=False).fit(X_train)\n",
    "    X_train_tfidf = tfidf_model.transform(X_train).toarray()\n",
    "    X_test_tfidf = tfidf_model.transform(X_test).toarray()\n",
    "\n",
    "    # Feature Selection using PSO\n",
    "    selected_features = pso_feature_selection(X_train_tfidf, y_train, n_particles=20, n_iterations=100, num_features=X_train_tfidf.shape[1])\n",
    "\n",
    "\n",
    "    # Train model using selected features\n",
    "    mnb = MultinomialNB()\n",
    "    mnb.fit(X_train_tfidf[:, selected_features], y_train)\n",
    "\n",
    "    # Predictions\n",
    "    predict_mnb = mnb.predict(X_test_tfidf[:, selected_features])\n",
    "\n",
    "    # Evaluation\n",
    "    accuracy_mnb = accuracy_score(y_test, predict_mnb)\n",
    "    precision_mnb = precision_score(y_test, predict_mnb)\n",
    "    recall_mnb = recall_score(y_test, predict_mnb)\n",
    "\n",
    "    cv_accuracy_mnb.append(accuracy_mnb)\n",
    "    cv_precision_mnb.append(precision_mnb)\n",
    "    cv_recall_mnb.append(recall_mnb)"
   ]
  },
  {
   "cell_type": "code",
   "execution_count": 30,
   "metadata": {},
   "outputs": [
    {
     "data": {
      "image/png": "[encoded data removed]",
      "text/plain": [
       "<Figure size 800x500 with 2 Axes>"
      ]
     },
     "metadata": {},
     "output_type": "display_data"
    }
   ],
   "source": [
    "# confusion matrix model MultinomialNB\n",
    "f, ax = plt.subplots(figsize=(8,5))\n",
    "sns.heatmap(confusion_matrix(y_test, predict_mnb), annot=True, fmt=\".0f\", ax=ax)\n",
    "plt.xlabel(\"Predicted Label\")\n",
    "plt.ylabel(\"True Label\")\n",
    "plt.title(\"Confusion Matrix for Multinomial Naive Bayes\")\n",
    "plt.show()"
   ]
  },
  {
   "cell_type": "code",
   "execution_count": 31,
   "metadata": {},
   "outputs": [
    {
     "name": "stdout",
     "output_type": "stream",
     "text": [
      "Multinomial Naive Bayes:\n",
      "Mean Accuracy: 0.7875\n",
      "Mean Precision: 0.7647117354211175\n",
      "Mean Recall: 0.835\n"
     ]
    }
   ],
   "source": [
    "# Skor akurasi model\n",
    "mean_accuracy_mnb = np.mean(cv_accuracy_mnb)\n",
    "mean_precision_mnb = np.mean(cv_precision_mnb)\n",
    "mean_recall_mnb = np.mean(cv_recall_mnb)\n",
    "\n",
    "print(\"Multinomial Naive Bayes:\")\n",
    "print(\"Mean Accuracy:\", mean_accuracy_mnb)\n",
    "print(\"Mean Precision:\", mean_precision_mnb)\n",
    "print(\"Mean Recall:\", mean_recall_mnb)"
   ]
  },
  {
   "cell_type": "markdown",
   "metadata": {},
   "source": [
    "BERNOULLI NAIVE BAYES"
   ]
  },
  {
   "cell_type": "code",
   "execution_count": 32,
   "metadata": {},
   "outputs": [],
   "source": [
    "# Array penyimpanan hasil k-10\n",
    "cv_accuracy_bnb = []\n",
    "cv_precision_bnb = []\n",
    "cv_recall_bnb = []"
   ]
  },
  {
   "cell_type": "code",
   "execution_count": 33,
   "metadata": {},
   "outputs": [],
   "source": [
    "for train_idx, test_idx in kfold.split(X, y):\n",
    "    X_train, X_test = X.iloc[train_idx], X.iloc[test_idx]\n",
    "    y_train, y_test = y.iloc[train_idx], y.iloc[test_idx]\n",
    "\n",
    "    # TF-IDF Vectorization\n",
    "    tfidf_model = TfidfVectorizer(smooth_idf=False).fit(X_train)\n",
    "    X_train_tfidf = tfidf_model.transform(X_train).toarray()\n",
    "    X_test_tfidf = tfidf_model.transform(X_test).toarray()\n",
    "\n",
    "    # Feature Selection using PSO\n",
    "    selected_features = pso_feature_selection(X_train_tfidf, y_train, n_particles=30, n_iterations=80, num_features=X_train_tfidf.shape[1])\n",
    "\n",
    "\n",
    "    # Train model using selected features\n",
    "    bnb = BernoulliNB()\n",
    "    bnb.fit(X_train_tfidf[:, selected_features], y_train)\n",
    "\n",
    "    # Predictions\n",
    "    predict_bnb = bnb.predict(X_test_tfidf[:, selected_features])\n",
    "\n",
    "    # Evaluation\n",
    "    accuracy_bnb = accuracy_score(y_test, predict_bnb)\n",
    "    precision_bnb = precision_score(y_test, predict_bnb)\n",
    "    recall_bnb = recall_score(y_test, predict_bnb)\n",
    "\n",
    "    cv_accuracy_bnb.append(accuracy_bnb)\n",
    "    cv_precision_bnb.append(precision_bnb)\n",
    "    cv_recall_bnb.append(recall_bnb)"
   ]
  },
  {
   "cell_type": "code",
   "execution_count": 34,
   "metadata": {},
   "outputs": [
    {
     "data": {
      "image/png": "[encoded data removed]",
      "text/plain": [
       "<Figure size 800x500 with 2 Axes>"
      ]
     },
     "metadata": {},
     "output_type": "display_data"
    }
   ],
   "source": [
    "# confusion matrix model BernoulliNB\n",
    "f, ax = plt.subplots(figsize=(8,5))\n",
    "sns.heatmap(confusion_matrix(y_test, predict_bnb), annot=True, fmt=\".0f\", ax=ax)\n",
    "plt.xlabel(\"Predicted Label\")\n",
    "plt.ylabel(\"True Label\")\n",
    "plt.title(\"Confusion Matrix for Bernoulli Naive Bayes\")\n",
    "plt.show()"
   ]
  },
  {
   "cell_type": "code",
   "execution_count": 35,
   "metadata": {},
   "outputs": [
    {
     "name": "stdout",
     "output_type": "stream",
     "text": [
      "Bernouilli Naive Bayes:\n",
      "Mean Accuracy: 0.775\n",
      "Mean Precision: 0.7596812664459722\n",
      "Mean Recall: 0.86\n"
     ]
    }
   ],
   "source": [
    "mean_accuracy_bnb = np.mean(cv_accuracy_bnb)\n",
    "mean_precision_bnb = np.mean(cv_precision_bnb)\n",
    "mean_recall_bnb = np.mean(cv_recall_bnb)\n",
    "\n",
    "print(\"Bernouilli Naive Bayes:\")\n",
    "print(\"Mean Accuracy:\", mean_accuracy_bnb)\n",
    "print(\"Mean Precision:\", mean_precision_bnb)\n",
    "print(\"Mean Recall:\", mean_recall_bnb)"
   ]
  },
  {
   "cell_type": "markdown",
   "metadata": {},
   "source": [
    "GAUSSIAN NAIVE BAYES"
   ]
  },
  {
   "cell_type": "code",
   "execution_count": 36,
   "metadata": {},
   "outputs": [],
   "source": [
    "# Array penyimpanan hasil k-10\n",
    "cv_accuracy_gnb = []\n",
    "cv_precision_gnb = []\n",
    "cv_recall_gnb = []"
   ]
  },
  {
   "cell_type": "code",
   "execution_count": 37,
   "metadata": {},
   "outputs": [],
   "source": [
    "for train_idx, test_idx in kfold.split(X, y):\n",
    "    X_train, X_test = X.iloc[train_idx], X.iloc[test_idx]\n",
    "    y_train, y_test = y.iloc[train_idx], y.iloc[test_idx]\n",
    "\n",
    "    # TF-IDF Vectorization\n",
    "    tfidf_model = TfidfVectorizer(smooth_idf=False).fit(X_train)\n",
    "    X_train_tfidf = tfidf_model.transform(X_train).toarray()\n",
    "    X_test_tfidf = tfidf_model.transform(X_test).toarray()\n",
    "\n",
    "    # Feature Selection using PSO\n",
    "    selected_features = pso_feature_selection(X_train_tfidf, y_train, n_particles=10, n_iterations=80, num_features=X_train_tfidf.shape[1])\n",
    "\n",
    "\n",
    "    # Train model using selected features\n",
    "    gnb = GaussianNB()\n",
    "    gnb.fit(X_train_tfidf[:, selected_features], y_train)\n",
    "\n",
    "    # Predictions\n",
    "    predict_gnb = gnb.predict(X_test_tfidf[:, selected_features])\n",
    "\n",
    "    # Evaluation\n",
    "    accuracy_gnb = accuracy_score(y_test, predict_gnb)\n",
    "    precision_gnb = precision_score(y_test, predict_gnb)\n",
    "    recall_gnb = recall_score(y_test, predict_gnb)\n",
    "\n",
    "    cv_accuracy_gnb.append(accuracy_gnb)\n",
    "    cv_precision_gnb.append(precision_gnb)\n",
    "    cv_recall_gnb.append(recall_gnb)"
   ]
  },
  {
   "cell_type": "code",
   "execution_count": 38,
   "metadata": {},
   "outputs": [
    {
     "data": {
      "image/png": "[encoded data removed]",
      "text/plain": [
       "<Figure size 800x500 with 2 Axes>"
      ]
     },
     "metadata": {},
     "output_type": "display_data"
    }
   ],
   "source": [
    "# confusion matrix model GaussianNB\n",
    "f, ax = plt.subplots(figsize=(8,5))\n",
    "sns.heatmap(confusion_matrix(y_test, predict_gnb), annot=True, fmt=\".0f\", ax=ax)\n",
    "plt.xlabel(\"Predicted Label\")\n",
    "plt.ylabel(\"True Label\")\n",
    "plt.title(\"Confusion Matrix for Gaussian Naive Bayes\")\n",
    "plt.show()"
   ]
  },
  {
   "cell_type": "code",
   "execution_count": 39,
   "metadata": {},
   "outputs": [
    {
     "name": "stdout",
     "output_type": "stream",
     "text": [
      "Gaussian Naive Bayes:\n",
      "Mean Accuracy: 0.6975\n",
      "Mean Precision: 0.6553848158338412\n",
      "Mean Recall: 0.835\n"
     ]
    }
   ],
   "source": [
    "\n",
    "mean_accuracy_gnb = np.mean(cv_accuracy_gnb)\n",
    "mean_precision_gnb = np.mean(cv_precision_gnb)\n",
    "mean_recall_gnb = np.mean(cv_recall_gnb)\n",
    "\n",
    "print(\"Gaussian Naive Bayes:\")\n",
    "print(\"Mean Accuracy:\", mean_accuracy_gnb)\n",
    "print(\"Mean Precision:\", mean_precision_gnb)\n",
    "print(\"Mean Recall:\", mean_recall_gnb)"
   ]
  },
  {
   "cell_type": "markdown",
   "metadata": {},
   "source": [
    "TABEL HASIL KESELURUHAN"
   ]
  },
  {
   "cell_type": "code",
   "execution_count": 40,
   "metadata": {},
   "outputs": [
    {
     "name": "stdout",
     "output_type": "stream",
     "text": [
      "            Model  Mean Accuracy  Mean Precision  Mean Recall\n",
      "0  Multinomial NB         0.7875        0.764712        0.835\n",
      "1    Bernoulli NB         0.7750        0.759681        0.860\n",
      "2     Gaussian NB         0.6975        0.655385        0.835\n"
     ]
    }
   ],
   "source": [
    "# Menyimpan hasil evaluasi dalam DataFrame\n",
    "results_data = {\n",
    "    'Model': ['Multinomial NB', 'Bernoulli NB', 'Gaussian NB'],\n",
    "    'Mean Accuracy': [mean_accuracy_mnb, mean_accuracy_bnb, mean_accuracy_gnb],\n",
    "    'Mean Precision': [mean_precision_mnb, mean_precision_bnb, mean_precision_gnb],\n",
    "    'Mean Recall': [mean_recall_mnb, mean_recall_bnb, mean_recall_gnb]\n",
    "}\n",
    "\n",
    "results_df = pd.DataFrame(results_data)\n",
    "\n",
    "# Menampilkan hasil dalam satu tabel\n",
    "print(results_df)"
   ]
  }
 ],
 "metadata": {
  "kernelspec": {
   "display_name": "Python 3",
   "language": "python",
   "name": "python3"
  },
  "language_info": {
   "codemirror_mode": {
    "name": "ipython",
    "version": 3
   },
   "file_extension": ".py",
   "mimetype": "text/x-python",
   "name": "python",
   "nbconvert_exporter": "python",
   "pygments_lexer": "ipython3",
   "version": "3.11.1"
  }
 },
 "nbformat": 4,
 "nbformat_minor": 2
}
