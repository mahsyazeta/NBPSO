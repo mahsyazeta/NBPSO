{
 "cells": [
  {
   "cell_type": "code",
   "execution_count": 29,
   "metadata": {},
   "outputs": [
    {
     "data": {
      "text/html": [
       "<div>\n",
       "<style scoped>\n",
       "    .dataframe tbody tr th:only-of-type {\n",
       "        vertical-align: middle;\n",
       "    }\n",
       "\n",
       "    .dataframe tbody tr th {\n",
       "        vertical-align: top;\n",
       "    }\n",
       "\n",
       "    .dataframe thead th {\n",
       "        text-align: right;\n",
       "    }\n",
       "</style>\n",
       "<table border=\"1\" class=\"dataframe\">\n",
       "  <thead>\n",
       "    <tr style=\"text-align: right;\">\n",
       "      <th></th>\n",
       "      <th>Sentiment</th>\n",
       "      <th>tweet_tokens_stemmed</th>\n",
       "    </tr>\n",
       "  </thead>\n",
       "  <tbody>\n",
       "    <tr>\n",
       "      <th>0</th>\n",
       "      <td>positive</td>\n",
       "      <td>['undang', 'shanijkt', 'hitamputih', 'pemenang...</td>\n",
       "    </tr>\n",
       "    <tr>\n",
       "      <th>1</th>\n",
       "      <td>positive</td>\n",
       "      <td>['selamat', 'berbuka', 'puasa', 'semoga', 'ama...</td>\n",
       "    </tr>\n",
       "    <tr>\n",
       "      <th>2</th>\n",
       "      <td>positive</td>\n",
       "      <td>['trans', 'hitam', 'putih', 'penghargaan', 'no...</td>\n",
       "    </tr>\n",
       "    <tr>\n",
       "      <th>3</th>\n",
       "      <td>positive</td>\n",
       "      <td>['selamat', 'hitamputih']</td>\n",
       "    </tr>\n",
       "    <tr>\n",
       "      <th>4</th>\n",
       "      <td>positive</td>\n",
       "      <td>['asiknya', 'nonton', 'hitam', 'putih', 'trans']</td>\n",
       "    </tr>\n",
       "    <tr>\n",
       "      <th>...</th>\n",
       "      <td>...</td>\n",
       "      <td>...</td>\n",
       "    </tr>\n",
       "    <tr>\n",
       "      <th>395</th>\n",
       "      <td>negative</td>\n",
       "      <td>['banget', 'kesel', 'debat', 'pake', 'emosi', ...</td>\n",
       "    </tr>\n",
       "    <tr>\n",
       "      <th>396</th>\n",
       "      <td>negative</td>\n",
       "      <td>['miskin', 'miskin', 'sekolah', 'pungutan', 'l...</td>\n",
       "    </tr>\n",
       "    <tr>\n",
       "      <th>397</th>\n",
       "      <td>negative</td>\n",
       "      <td>['emosi', 'cepat', 'tua', 'nonton', 'emosi', '...</td>\n",
       "    </tr>\n",
       "    <tr>\n",
       "      <th>398</th>\n",
       "      <td>negative</td>\n",
       "      <td>['penampilan', 'kyk', 'preman', 'taunya', 'bki...</td>\n",
       "    </tr>\n",
       "    <tr>\n",
       "      <th>399</th>\n",
       "      <td>negative</td>\n",
       "      <td>['berbelitbelit', 'muter', 'buang', 'mutu']</td>\n",
       "    </tr>\n",
       "  </tbody>\n",
       "</table>\n",
       "<p>400 rows × 2 columns</p>\n",
       "</div>"
      ],
      "text/plain": [
       "    Sentiment                               tweet_tokens_stemmed\n",
       "0    positive  ['undang', 'shanijkt', 'hitamputih', 'pemenang...\n",
       "1    positive  ['selamat', 'berbuka', 'puasa', 'semoga', 'ama...\n",
       "2    positive  ['trans', 'hitam', 'putih', 'penghargaan', 'no...\n",
       "3    positive                          ['selamat', 'hitamputih']\n",
       "4    positive   ['asiknya', 'nonton', 'hitam', 'putih', 'trans']\n",
       "..        ...                                                ...\n",
       "395  negative  ['banget', 'kesel', 'debat', 'pake', 'emosi', ...\n",
       "396  negative  ['miskin', 'miskin', 'sekolah', 'pungutan', 'l...\n",
       "397  negative  ['emosi', 'cepat', 'tua', 'nonton', 'emosi', '...\n",
       "398  negative  ['penampilan', 'kyk', 'preman', 'taunya', 'bki...\n",
       "399  negative        ['berbelitbelit', 'muter', 'buang', 'mutu']\n",
       "\n",
       "[400 rows x 2 columns]"
      ]
     },
     "execution_count": 29,
     "metadata": {},
     "output_type": "execute_result"
    }
   ],
   "source": [
    "import pandas as pd\n",
    "import numpy as np\n",
    "import re\n",
    "import joblib\n",
    "import pickle\n",
    "from sklearn import model_selection\n",
    "from sklearn.naive_bayes import MultinomialNB\n",
    "from sklearn.naive_bayes import BernoulliNB\n",
    "from sklearn.naive_bayes import GaussianNB\n",
    "from sklearn.metrics import classification_report\n",
    "from sklearn.model_selection import StratifiedKFold\n",
    "from sklearn.model_selection import cross_val_score\n",
    "from sklearn.feature_extraction.text import TfidfVectorizer\n",
    "from sklearn.model_selection import train_test_split\n",
    "from sklearn.metrics import accuracy_score,confusion_matrix,f1_score,recall_score,precision_score\n",
    "import sklearn.metrics as metrics\n",
    "import matplotlib.pyplot as plt\n",
    "from wordcloud import WordCloud\n",
    "from PIL import Image\n",
    "import seaborn as sns\n",
    "\n",
    "#load data\n",
    "df = pd.read_csv('text_preprocessing/final_dataset.csv')\n",
    "df"
   ]
  },
  {
   "cell_type": "code",
   "execution_count": 2,
   "metadata": {},
   "outputs": [
    {
     "name": "stdout",
     "output_type": "stream",
     "text": [
      "index: Index(['positive', 'negative'], dtype='object', name='Sentiment')\n",
      "values: [200 200]\n",
      "all_values: 400\n"
     ]
    },
    {
     "data": {
      "image/png": "[encoded data removed]",
      "text/plain": [
       "<Figure size 1200x700 with 1 Axes>"
      ]
     },
     "metadata": {},
     "output_type": "display_data"
    }
   ],
   "source": [
    "#visualisasi data\n",
    "tweet_bar_df = df['Sentiment'].value_counts()\n",
    "print(f'index: {tweet_bar_df.index}')\n",
    "print(f'values: {tweet_bar_df.values}')\n",
    "print(f'all_values: {tweet_bar_df.sum()}')\n",
    "\n",
    "plt.figure(figsize=(12, 7))\n",
    "sentimen = ['Tweet Positif', 'Tweet Negatif']\n",
    "plt.bar(sentimen, tweet_bar_df.values, align='center',  edgecolor = 'red', width= 0.9)\n",
    "i = 1.0\n",
    "j = 30\n",
    "for i in range(len(sentimen)):\n",
    "    plt.annotate(tweet_bar_df.values[i], (-0.1 + i, tweet_bar_df.values[i] + j))\n",
    "plt.legend(labels = ['Data Tweet'])\n",
    "plt.title(\"Bar plot merepresentasikan total jumlah data tweet\")\n",
    "plt.xlabel('Sentimen')\n",
    "plt.ylabel('Jumlah Tweet')\n",
    "plt.show()"
   ]
  },
  {
   "cell_type": "code",
   "execution_count": 3,
   "metadata": {},
   "outputs": [
    {
     "data": {
      "text/plain": [
       "(400, 3)"
      ]
     },
     "execution_count": 3,
     "metadata": {},
     "output_type": "execute_result"
    }
   ],
   "source": [
    "#konversi sentimen positif =1 negatif= 0\n",
    "def convert_label_sentimen(label_sentimen):\n",
    "    if label_sentimen == \"positive\":\n",
    "        return 1\n",
    "    else:\n",
    "        return 0\n",
    "\n",
    "df['label_sentimen'] = df['Sentiment'].apply(convert_label_sentimen)\n",
    "df.shape"
   ]
  },
  {
   "cell_type": "code",
   "execution_count": 4,
   "metadata": {},
   "outputs": [
    {
     "data": {
      "text/html": [
       "<div>\n",
       "<style scoped>\n",
       "    .dataframe tbody tr th:only-of-type {\n",
       "        vertical-align: middle;\n",
       "    }\n",
       "\n",
       "    .dataframe tbody tr th {\n",
       "        vertical-align: top;\n",
       "    }\n",
       "\n",
       "    .dataframe thead th {\n",
       "        text-align: right;\n",
       "    }\n",
       "</style>\n",
       "<table border=\"1\" class=\"dataframe\">\n",
       "  <thead>\n",
       "    <tr style=\"text-align: right;\">\n",
       "      <th></th>\n",
       "      <th>tweet_tokens_stemmed</th>\n",
       "      <th>label_sentimen</th>\n",
       "    </tr>\n",
       "  </thead>\n",
       "  <tbody>\n",
       "    <tr>\n",
       "      <th>0</th>\n",
       "      <td>['undang', 'shanijkt', 'hitamputih', 'pemenang...</td>\n",
       "      <td>1</td>\n",
       "    </tr>\n",
       "    <tr>\n",
       "      <th>1</th>\n",
       "      <td>['selamat', 'berbuka', 'puasa', 'semoga', 'ama...</td>\n",
       "      <td>1</td>\n",
       "    </tr>\n",
       "    <tr>\n",
       "      <th>2</th>\n",
       "      <td>['trans', 'hitam', 'putih', 'penghargaan', 'no...</td>\n",
       "      <td>1</td>\n",
       "    </tr>\n",
       "    <tr>\n",
       "      <th>3</th>\n",
       "      <td>['selamat', 'hitamputih']</td>\n",
       "      <td>1</td>\n",
       "    </tr>\n",
       "    <tr>\n",
       "      <th>4</th>\n",
       "      <td>['asiknya', 'nonton', 'hitam', 'putih', 'trans']</td>\n",
       "      <td>1</td>\n",
       "    </tr>\n",
       "    <tr>\n",
       "      <th>...</th>\n",
       "      <td>...</td>\n",
       "      <td>...</td>\n",
       "    </tr>\n",
       "    <tr>\n",
       "      <th>395</th>\n",
       "      <td>['banget', 'kesel', 'debat', 'pake', 'emosi', ...</td>\n",
       "      <td>0</td>\n",
       "    </tr>\n",
       "    <tr>\n",
       "      <th>396</th>\n",
       "      <td>['miskin', 'miskin', 'sekolah', 'pungutan', 'l...</td>\n",
       "      <td>0</td>\n",
       "    </tr>\n",
       "    <tr>\n",
       "      <th>397</th>\n",
       "      <td>['emosi', 'cepat', 'tua', 'nonton', 'emosi', '...</td>\n",
       "      <td>0</td>\n",
       "    </tr>\n",
       "    <tr>\n",
       "      <th>398</th>\n",
       "      <td>['penampilan', 'kyk', 'preman', 'taunya', 'bki...</td>\n",
       "      <td>0</td>\n",
       "    </tr>\n",
       "    <tr>\n",
       "      <th>399</th>\n",
       "      <td>['berbelitbelit', 'muter', 'buang', 'mutu']</td>\n",
       "      <td>0</td>\n",
       "    </tr>\n",
       "  </tbody>\n",
       "</table>\n",
       "<p>400 rows × 2 columns</p>\n",
       "</div>"
      ],
      "text/plain": [
       "                                  tweet_tokens_stemmed  label_sentimen\n",
       "0    ['undang', 'shanijkt', 'hitamputih', 'pemenang...               1\n",
       "1    ['selamat', 'berbuka', 'puasa', 'semoga', 'ama...               1\n",
       "2    ['trans', 'hitam', 'putih', 'penghargaan', 'no...               1\n",
       "3                            ['selamat', 'hitamputih']               1\n",
       "4     ['asiknya', 'nonton', 'hitam', 'putih', 'trans']               1\n",
       "..                                                 ...             ...\n",
       "395  ['banget', 'kesel', 'debat', 'pake', 'emosi', ...               0\n",
       "396  ['miskin', 'miskin', 'sekolah', 'pungutan', 'l...               0\n",
       "397  ['emosi', 'cepat', 'tua', 'nonton', 'emosi', '...               0\n",
       "398  ['penampilan', 'kyk', 'preman', 'taunya', 'bki...               0\n",
       "399        ['berbelitbelit', 'muter', 'buang', 'mutu']               0\n",
       "\n",
       "[400 rows x 2 columns]"
      ]
     },
     "execution_count": 4,
     "metadata": {},
     "output_type": "execute_result"
    }
   ],
   "source": [
    "df.drop(df.columns[[0]], axis= 1,inplace=True)\n",
    "df"
   ]
  },
  {
   "cell_type": "code",
   "execution_count": 5,
   "metadata": {},
   "outputs": [
    {
     "data": {
      "text/plain": [
       "label_sentimen\n",
       "1    200\n",
       "0    200\n",
       "Name: count, dtype: int64"
      ]
     },
     "execution_count": 5,
     "metadata": {},
     "output_type": "execute_result"
    }
   ],
   "source": [
    "df['label_sentimen'].value_counts()"
   ]
  },
  {
   "cell_type": "code",
   "execution_count": 22,
   "metadata": {},
   "outputs": [
    {
     "data": {
      "text/plain": [
       "((360,), (40,), (360,), (40,))"
      ]
     },
     "execution_count": 22,
     "metadata": {},
     "output_type": "execute_result"
    }
   ],
   "source": [
    "X= df['tweet_tokens_stemmed'] \n",
    "y= df['label_sentimen']\n",
    "#k-fold cross validation(spliting data)\n",
    "kfold = StratifiedKFold(n_splits=10, random_state=42, shuffle=True)\n",
    "for train_idx, val_idx in kfold.split(X, y):\n",
    "    X_train, X_test = X[train_idx], X[val_idx]\n",
    "    y_train, y_test = y[train_idx], y[val_idx]\n",
    "    \n",
    "X_train.shape, X_test.shape, y_train.shape, y_test.shape\n"
   ]
  },
  {
   "cell_type": "code",
   "execution_count": 23,
   "metadata": {},
   "outputs": [
    {
     "name": "stdout",
     "output_type": "stream",
     "text": [
      "  (0, 1114)\t0.47321142314648934\n",
      "  (0, 1003)\t0.3198235856308025\n",
      "  (0, 974)\t0.3198235856308025\n",
      "  (0, 865)\t0.3198235856308025\n",
      "  (0, 803)\t0.3198235856308025\n",
      "  (0, 697)\t0.3198235856308025\n",
      "  (0, 528)\t0.3198235856308025\n",
      "  (0, 411)\t0.3198235856308025\n",
      "  (0, 356)\t0.24507359613689872\n",
      "  (1, 953)\t0.24864114359860165\n",
      "  (1, 946)\t0.3046825670418109\n",
      "  (1, 871)\t0.38148153826807\n",
      "  (1, 361)\t0.38148153826807\n",
      "  (1, 264)\t0.38148153826807\n",
      "  (1, 114)\t0.38148153826807\n",
      "  (1, 27)\t0.38148153826807\n",
      "  (1, 26)\t0.34308205265494046\n",
      "  (2, 1090)\t0.33363281485538665\n",
      "  (2, 878)\t0.29705136250828995\n",
      "  (2, 821)\t0.5980428152694774\n",
      "  (2, 748)\t0.5980428152694774\n",
      "  (2, 355)\t0.2917862489781778\n",
      "  (3, 946)\t0.7215938386007008\n",
      "  (3, 356)\t0.6923166414968701\n",
      "  (4, 1090)\t0.3884684836429908\n",
      "  :\t:\n",
      "  (355, 482)\t0.43648213476012365\n",
      "  (355, 324)\t0.43648213476012365\n",
      "  (355, 287)\t0.4593134857782089\n",
      "  (355, 212)\t0.39206927169665445\n",
      "  (355, 71)\t0.31711383797505793\n",
      "  (356, 944)\t0.37888233696313756\n",
      "  (356, 876)\t0.4212887722012922\n",
      "  (356, 695)\t0.7081523251191136\n",
      "  (356, 533)\t0.4212887722012922\n",
      "  (357, 1093)\t0.3490354625807763\n",
      "  (357, 747)\t0.2143306666347872\n",
      "  (357, 287)\t0.6980709251615526\n",
      "  (357, 186)\t0.415291219895753\n",
      "  (357, 145)\t0.415291219895753\n",
      "  (358, 1040)\t0.3938501359213133\n",
      "  (358, 862)\t0.3938501359213133\n",
      "  (358, 841)\t0.3145611475382787\n",
      "  (358, 809)\t0.3938501359213133\n",
      "  (358, 520)\t0.35420564172979596\n",
      "  (358, 500)\t0.3938501359213133\n",
      "  (358, 154)\t0.3938501359213133\n",
      "  (359, 711)\t0.460818134519896\n",
      "  (359, 710)\t0.5123952403166925\n",
      "  (359, 169)\t0.5123952403166925\n",
      "  (359, 111)\t0.5123952403166925   (0, 1058)\t0.5244925966848651\n",
      "  (0, 594)\t0.6844682803563265\n",
      "  (0, 437)\t0.5063701108959936\n",
      "  (1, 878)\t0.41217073205789345\n",
      "  (1, 355)\t0.4048651749321836\n",
      "  (1, 63)\t0.6974204584647172\n",
      "  (1, 6)\t0.424033232043028\n",
      "  (2, 1090)\t0.24815421394193185\n",
      "  (2, 978)\t0.44482088727136804\n",
      "  (2, 946)\t0.7105411728334755\n",
      "  (2, 878)\t0.2209451351347923\n",
      "  (2, 662)\t0.3738539528799247\n",
      "  (2, 355)\t0.21702897326100795\n",
      "  (3, 1106)\t0.675561999184475\n",
      "  (3, 878)\t0.33555559433674975\n",
      "  (3, 537)\t0.5677825188467429\n",
      "  (3, 355)\t0.32960800909449073\n",
      "  (4, 878)\t0.3409252826912643\n",
      "  (4, 355)\t0.334882521925927\n",
      "  (4, 344)\t0.6863725994575641\n",
      "  (4, 270)\t0.5481936727510441\n",
      "  (5, 126)\t1.0\n",
      "  (6, 953)\t0.516816404258903\n",
      "  (6, 772)\t0.7131178301895774\n",
      "  (6, 374)\t0.4736705232063815\n",
      "  :\t:\n",
      "  (31, 416)\t0.4809025637077326\n",
      "  (31, 187)\t0.43249547391709714\n",
      "  (31, 135)\t0.4809025637077326\n",
      "  (32, 1045)\t1.0\n",
      "  (33, 476)\t0.21407972098830635\n",
      "  (33, 413)\t0.3341337226633614\n",
      "  (33, 410)\t0.3575427523438354\n",
      "  (33, 377)\t0.3575427523438354\n",
      "  (33, 374)\t0.23748875066878036\n",
      "  (33, 307)\t0.39756075290218706\n",
      "  (33, 85)\t0.3575427523438354\n",
      "  (33, 46)\t0.2941157221050097\n",
      "  (33, 4)\t0.39756075290218706\n",
      "  (34, 784)\t0.7655315855046124\n",
      "  (34, 413)\t0.6433983148833964\n",
      "  (35, 715)\t0.480140548058323\n",
      "  (35, 550)\t0.35577765122077637\n",
      "  (35, 451)\t0.566960014904967\n",
      "  (35, 172)\t0.566960014904967\n",
      "  (36, 715)\t0.4684081360702812\n",
      "  (36, 684)\t0.8835122059502997\n",
      "  (37, 246)\t1.0\n",
      "  (38, 805)\t1.0\n",
      "  (39, 727)\t0.8584894284665159\n",
      "  (39, 374)\t0.5128312599785967\n"
     ]
    }
   ],
   "source": [
    "  # Vektorisasi text menggunakan TF-IDF\n",
    "tfidf_model = TfidfVectorizer(smooth_idf=False).fit(X_train)\n",
    "X_train = tfidf_model.transform(X_train)\n",
    "X_test = tfidf_model.transform(X_test)\n",
    "\n",
    "print(X_train,X_test)"
   ]
  },
  {
   "cell_type": "code",
   "execution_count": 8,
   "metadata": {},
   "outputs": [
    {
     "name": "stdout",
     "output_type": "stream",
     "text": [
      "[1 1 1 1 1 0 0 1 1 1 1 0 0 0 0 1 0 0 0 1 1 1 1 0 1 0 0 0 0 1 1 1 1 1 1 1 1\n",
      " 1 1 0]\n"
     ]
    }
   ],
   "source": [
    "#klasifikasi\n",
    "mnb = MultinomialNB()\n",
    "mnb.fit(X_train, y_train)\n",
    "predict = mnb.predict(X_test)\n",
    "print(predict)"
   ]
  },
  {
   "cell_type": "code",
   "execution_count": 10,
   "metadata": {},
   "outputs": [
    {
     "data": {
      "image/png": "[encoded data removed]",
      "text/plain": [
       "<Figure size 800x500 with 2 Axes>"
      ]
     },
     "metadata": {},
     "output_type": "display_data"
    }
   ],
   "source": [
    "#confusion matrix model\n",
    "f, ax = plt.subplots(figsize=(8,5))\n",
    "sns.heatmap(confusion_matrix(y_test, predict), annot=True, fmt=\".0f\", ax=ax)\n",
    "plt.xlabel(\"Predicted Label\")\n",
    "plt.ylabel(\"True Label\")\n",
    "plt.show()"
   ]
  },
  {
   "cell_type": "code",
   "execution_count": 25,
   "metadata": {},
   "outputs": [
    {
     "name": "stdout",
     "output_type": "stream",
     "text": [
      "Hasil akurasi model : \n",
      "77.5\n"
     ]
    }
   ],
   "source": [
    "#skor akurasi model\n",
    "print('Hasil akurasi model : ')\n",
    "print(accuracy_score(y_test, predict)*100)"
   ]
  },
  {
   "cell_type": "markdown",
   "metadata": {},
   "source": [
    "BERNOULLI NAIVE BAYES"
   ]
  },
  {
   "cell_type": "code",
   "execution_count": null,
   "metadata": {},
   "outputs": [
    {
     "name": "stdout",
     "output_type": "stream",
     "text": [
      "[1 1 1 1 1 1 1 1 1 1 1 0 0 1 0 1 0 0 0 1 1 1 1 1 1 0 0 1 0 1 1 1 1 1 1 1 0\n",
      " 1 1 0]\n"
     ]
    }
   ],
   "source": [
    "#klasifikasi\n",
    "bnb = BernoulliNB()\n",
    "bnb.fit(X_train, y_train)\n",
    "predict = bnb.predict(X_test)\n",
    "print(predict)"
   ]
  },
  {
   "cell_type": "code",
   "execution_count": null,
   "metadata": {},
   "outputs": [
    {
     "data": {
      "image/png": "[encoded data removed]",
      "text/plain": [
       "<Figure size 800x500 with 2 Axes>"
      ]
     },
     "metadata": {},
     "output_type": "display_data"
    }
   ],
   "source": [
    "#confusion matrix model\n",
    "f, ax = plt.subplots(figsize=(8,5))\n",
    "sns.heatmap(confusion_matrix(y_test, predict), annot=True, fmt=\".0f\", ax=ax)\n",
    "plt.xlabel(\"Predicted Label\")\n",
    "plt.ylabel(\"True Label\")\n",
    "plt.show()"
   ]
  },
  {
   "cell_type": "code",
   "execution_count": null,
   "metadata": {},
   "outputs": [
    {
     "name": "stdout",
     "output_type": "stream",
     "text": [
      "Hasil akurasi model : \n",
      "72.5\n"
     ]
    }
   ],
   "source": [
    "#skor akurasi model\n",
    "print('Hasil akurasi model : ')\n",
    "print(accuracy_score(y_test, predict)*100)"
   ]
  },
  {
   "cell_type": "markdown",
   "metadata": {},
   "source": [
    "GAUSSIAN NAIVE BAYES"
   ]
  },
  {
   "cell_type": "code",
   "execution_count": null,
   "metadata": {},
   "outputs": [
    {
     "name": "stdout",
     "output_type": "stream",
     "text": [
      "[1 1 1 1 0 1 0 1 1 0 1 0 0 0 0 1 0 0 0 1 0 1 1 1 1 0 1 1 0 1 1 1 1 1 1 0 1\n",
      " 1 1 0]\n"
     ]
    }
   ],
   "source": [
    "#klasifikasi\n",
    "X_train_dense = X_train.toarray()\n",
    "X_test_dense = X_test.toarray()\n",
    "gnb = GaussianNB()\n",
    "gnb.fit(X_train_dense, y_train)\n",
    "predict = gnb.predict(X_test_dense)\n",
    "print(predict)"
   ]
  },
  {
   "cell_type": "code",
   "execution_count": null,
   "metadata": {},
   "outputs": [
    {
     "data": {
      "image/png": "[encoded data removed]",
      "text/plain": [
       "<Figure size 800x500 with 2 Axes>"
      ]
     },
     "metadata": {},
     "output_type": "display_data"
    }
   ],
   "source": [
    "#confusion matrix model\n",
    "f, ax = plt.subplots(figsize=(8,5))\n",
    "sns.heatmap(confusion_matrix(y_test, predict), annot=True, fmt=\".0f\", ax=ax)\n",
    "plt.xlabel(\"Predicted Label\")\n",
    "plt.ylabel(\"True Label\")\n",
    "plt.show()"
   ]
  },
  {
   "cell_type": "code",
   "execution_count": null,
   "metadata": {},
   "outputs": [
    {
     "name": "stdout",
     "output_type": "stream",
     "text": [
      "Hasil akurasi model : \n",
      "67.5\n"
     ]
    }
   ],
   "source": [
    "#skor akurasi model\n",
    "print('Hasil akurasi model : ')\n",
    "print(accuracy_score(y_test, predict)*100)"
   ]
  }
 ],
 "metadata": {
  "kernelspec": {
   "display_name": "Python 3",
   "language": "python",
   "name": "python3"
  },
  "language_info": {
   "codemirror_mode": {
    "name": "ipython",
    "version": 3
   },
   "file_extension": ".py",
   "mimetype": "text/x-python",
   "name": "python",
   "nbconvert_exporter": "python",
   "pygments_lexer": "ipython3",
   "version": "3.11.1"
  }
 },
 "nbformat": 4,
 "nbformat_minor": 2
}
