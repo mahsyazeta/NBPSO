{
 "cells": [
  {
   "cell_type": "code",
   "execution_count": 1,
   "metadata": {},
   "outputs": [
    {
     "name": "stdout",
     "output_type": "stream",
     "text": [
      "Confusion Matrix:\n",
      "[[ 77  80]\n",
      " [ 10 153]]\n",
      "Accuracy: 0.71875\n"
     ]
    }
   ],
   "source": [
    "import pandas as pd\n",
    "from sklearn.model_selection import train_test_split, KFold\n",
    "from sklearn.model_selection import cross_val_predict, StratifiedKFold\n",
    "from sklearn.feature_extraction.text import CountVectorizer\n",
    "from sklearn.naive_bayes import BernoulliNB\n",
    "from sklearn.metrics import confusion_matrix, accuracy_score\n",
    "\n",
    "# Load dataset\n",
    "file_path = 'text_preprocessing/final_dataset.csv'\n",
    "data = pd.read_csv(file_path)\n",
    "\n",
    "# Extract features and labels\n",
    "features = data['tweet_tokens_stemmed'].apply(lambda x: ' '.join(eval(x)))  \n",
    "labels = data['Sentiment']\n",
    "\n",
    "# Split dataset for training and testing\n",
    "X_train, X_test, y_train, y_test = train_test_split(features, labels, test_size=0.2, random_state=42)\n",
    "\n",
    "# Convert text data to matrix of token counts\n",
    "vectorizer = CountVectorizer()\n",
    "X_train_counts = vectorizer.fit_transform(X_train)\n",
    "\n",
    "# Naive Bayes Bernouilli Classifier with K-Fold Cross-Validation and Confusion Matrix\n",
    "classifier = BernoulliNB()\n",
    "kf = KFold(n_splits=10, shuffle=True, random_state=42)\n",
    "predictions = cross_val_predict(classifier, X_train_counts, y_train, cv=kf)\n",
    "confusion_matrix_result = confusion_matrix(y_train, predictions)\n",
    "print(\"Confusion Matrix:\")\n",
    "print(confusion_matrix_result)\n",
    "\n",
    "# Print accuracy\n",
    "accuracy = accuracy_score(y_train, predictions)\n",
    "print(\"Accuracy:\", accuracy)"
   ]
  },
  {
   "cell_type": "code",
   "execution_count": 2,
   "metadata": {},
   "outputs": [
    {
     "name": "stderr",
     "output_type": "stream",
     "text": [
      "2024-03-12 21:57:17,954 - pyswarms.single.global_best - INFO - Optimize for 100 iters with {'c1': 0.5, 'c2': 0.3, 'w': 0.9}\n",
      "pyswarms.single.global_best: 100%|██████████|100/100, best_cost=-.505\n",
      "2024-03-12 21:57:51,200 - pyswarms.single.global_best - INFO - Optimization finished | best cost: -0.505, best pos: [1.97866082 1.00967799 1.60002618 ... 0.78182437 1.58544769 1.89645821]\n"
     ]
    },
    {
     "name": "stdout",
     "output_type": "stream",
     "text": [
      "Confusion Matrix:\n",
      "[[107  93]\n",
      " [ 14 186]]\n",
      "Accuracy: 0.7325\n"
     ]
    }
   ],
   "source": [
    "import pandas as pd\n",
    "import numpy as np\n",
    "from sklearn.feature_extraction.text import CountVectorizer\n",
    "from sklearn.naive_bayes import BernoulliNB\n",
    "from sklearn.metrics import confusion_matrix, accuracy_score\n",
    "from pyswarms.single.global_best import GlobalBestPSO\n",
    "from sklearn.model_selection import KFold, cross_val_predict\n",
    "\n",
    "# Load dataset\n",
    "file_path = 'text_preprocessing/final_dataset.csv'\n",
    "data = pd.read_csv(file_path)\n",
    "\n",
    "# Extract features and labels\n",
    "features = data['tweet_tokens_stemmed'].apply(lambda x: ' '.join(eval(x)))\n",
    "labels = data['Sentiment']\n",
    "\n",
    "# Convert text data to matrix of token counts\n",
    "vectorizer = CountVectorizer()\n",
    "X_counts = vectorizer.fit_transform(features)\n",
    "\n",
    "# Define fitness function for PSO\n",
    "def fitness_function(selected_features, X, y):\n",
    "    clf = BernoulliNB()\n",
    "    # Convert the input array to 2 dimensions\n",
    "    X_2d = X.toarray()[:, selected_features.astype(int)].reshape(X.shape[0], -1)\n",
    "    # Fit the classifier\n",
    "    clf.fit(X_2d, y)\n",
    "    y_pred = clf.predict(X_2d)\n",
    "    return -accuracy_score(y, y_pred)  # PSO minimizes the objective function, so we use negative accuracy\n",
    "\n",
    "# Perform PSO feature selection\n",
    "optimizer = GlobalBestPSO(n_particles=10, dimensions=X_counts.shape[1], options={'c1': 0.5, 'c2': 0.3, 'w': 0.9})\n",
    "cost, pos = optimizer.optimize(fitness_function, iters=100, X=X_counts, y=labels)\n",
    "\n",
    "# Get selected features\n",
    "selected_features = np.where(pos > 0.5)[0]\n",
    "\n",
    "# Naive Bayes Bernoulli Classifier with K-Fold Cross-Validation and Confusion Matrix\n",
    "classifier = BernoulliNB()\n",
    "kf = KFold(n_splits=10, shuffle=True, random_state=42)\n",
    "predictions = cross_val_predict(classifier, X_counts.toarray()[:, selected_features.astype(int)], labels, cv=kf)\n",
    "confusion_matrix_result = confusion_matrix(labels, predictions)\n",
    "print(\"Confusion Matrix:\")\n",
    "print(confusion_matrix_result)\n",
    "\n",
    "# Print accuracy\n",
    "accuracy = accuracy_score(labels, predictions)\n",
    "print(\"Accuracy:\", accuracy)\n"
   ]
  }
 ],
 "metadata": {
  "kernelspec": {
   "display_name": "Python 3",
   "language": "python",
   "name": "python3"
  },
  "language_info": {
   "codemirror_mode": {
    "name": "ipython",
    "version": 3
   },
   "file_extension": ".py",
   "mimetype": "text/x-python",
   "name": "python",
   "nbconvert_exporter": "python",
   "pygments_lexer": "ipython3",
   "version": "3.11.1"
  }
 },
 "nbformat": 4,
 "nbformat_minor": 2
}
