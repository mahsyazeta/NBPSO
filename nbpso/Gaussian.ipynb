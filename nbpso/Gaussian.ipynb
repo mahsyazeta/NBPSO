{
 "cells": [
  {
   "cell_type": "code",
   "execution_count": 1,
   "metadata": {},
   "outputs": [
    {
     "name": "stdout",
     "output_type": "stream",
     "text": [
      "Confusion Matrix:\n",
      "[[ 86  71]\n",
      " [ 12 151]]\n",
      "Accuracy: 0.740625\n"
     ]
    }
   ],
   "source": [
    "import pandas as pd\n",
    "from sklearn.model_selection import cross_val_predict, train_test_split, StratifiedKFold\n",
    "from sklearn.metrics import confusion_matrix, accuracy_score\n",
    "from sklearn.naive_bayes import GaussianNB\n",
    "from sklearn.feature_extraction.text import CountVectorizer\n",
    "\n",
    "# Load dataset\n",
    "file_path = 'text_preprocessing/final_dataset.csv'\n",
    "data = pd.read_csv(file_path)\n",
    "\n",
    "# Extract features and labels\n",
    "features = data['tweet_tokens_stemmed'].apply(lambda x: ' '.join(eval(x)))\n",
    "labels = data['Sentiment']\n",
    "\n",
    "# Split dataset for training and testing\n",
    "X_train, X_test, y_train, y_test = train_test_split(features, labels, test_size=0.2, random_state=42)\n",
    "\n",
    "# Convert text data to matrix of token counts\n",
    "vectorizer = CountVectorizer()\n",
    "X_train_counts = vectorizer.fit_transform(X_train)\n",
    "\n",
    "# Naive Bayes Gaussian Classifier with K-Fold Cross-Validation and Confusion Matrix\n",
    "classifier = GaussianNB()\n",
    "kf = StratifiedKFold(n_splits=10, shuffle=True, random_state=42)\n",
    "predictions = cross_val_predict(classifier, X_train_counts.toarray(), y_train, cv=kf)\n",
    "confusion_matrix_result = confusion_matrix(y_train, predictions)\n",
    "print(\"Confusion Matrix:\")\n",
    "print(confusion_matrix_result)\n",
    "\n",
    "# Print accuracy\n",
    "accuracy = accuracy_score(y_train, predictions)\n",
    "print(\"Accuracy:\", accuracy)"
   ]
  },
  {
   "cell_type": "code",
   "execution_count": 2,
   "metadata": {},
   "outputs": [
    {
     "name": "stdout",
     "output_type": "stream",
     "text": [
      "Stopping search: maximum iterations reached --> 10\n",
      "Best features: [   0    1    2 ... 1254 1255 1256]\n",
      "Final accuracy after feature selection optimization: 0.7525\n"
     ]
    }
   ],
   "source": [
    "import numpy as np\n",
    "import pandas as pd\n",
    "from sklearn.model_selection import StratifiedKFold, cross_val_predict\n",
    "from sklearn.naive_bayes import GaussianNB\n",
    "from sklearn.feature_extraction.text import CountVectorizer\n",
    "from sklearn.metrics import confusion_matrix, accuracy_score\n",
    "from pyswarm import pso\n",
    "\n",
    "# Load dataset\n",
    "file_path = 'text_preprocessing/final_dataset.csv'\n",
    "data = pd.read_csv(file_path)\n",
    "\n",
    "# Extract features and labels\n",
    "X = data['tweet_tokens_stemmed'].apply(lambda x: ' '.join(eval(x)))\n",
    "y = data['Sentiment']\n",
    "vectorizer = CountVectorizer()\n",
    "X_train_counts = vectorizer.fit_transform(X)\n",
    "\n",
    "# Define kf (StratifiedKFold) before using it in cross_val_predict\n",
    "kf = StratifiedKFold(n_splits=10, shuffle=True, random_state=42)\n",
    "\n",
    "# Naive Bayes Gaussian Classifier with K-Fold Cross-Validation\n",
    "def objective_function(selected_features, X_train_counts=X_train_counts):\n",
    "    classifier = GaussianNB()\n",
    "    selected_features = np.where(selected_features)[0]\n",
    "    predictions = cross_val_predict(classifier, X_train_counts[:, selected_features].toarray(), y, cv=kf)\n",
    "    conf_matrix = confusion_matrix(y, predictions)\n",
    "    accuracy = accuracy_score(y, predictions)\n",
    "    return -accuracy  # Minimize negative accuracy\n",
    "\n",
    "# Convert boolean arrays lb and ub to integer arrays\n",
    "lb = np.zeros(X_train_counts.shape[1], dtype=int)\n",
    "ub = np.ones(X_train_counts.shape[1], dtype=int)\n",
    "\n",
    "best_features, _ = pso(objective_function, lb, ub, swarmsize=10, maxiter=10)\n",
    "print(\"Best features:\", np.where(best_features)[0])\n",
    "\n",
    "# Final evaluation after feature selection optimization\n",
    "final_selected_features = np.where(best_features)[0]\n",
    "final_classifier = GaussianNB()\n",
    "final_predictions = cross_val_predict(final_classifier, X_train_counts[:, final_selected_features].toarray(), y, cv=kf)\n",
    "final_accuracy = accuracy_score(y, final_predictions)\n",
    "print(\"Final accuracy after feature selection optimization:\", final_accuracy)\n"
   ]
  }
 ],
 "metadata": {
  "kernelspec": {
   "display_name": "Python 3",
   "language": "python",
   "name": "python3"
  },
  "language_info": {
   "codemirror_mode": {
    "name": "ipython",
    "version": 3
   },
   "file_extension": ".py",
   "mimetype": "text/x-python",
   "name": "python",
   "nbconvert_exporter": "python",
   "pygments_lexer": "ipython3",
   "version": "3.11.1"
  }
 },
 "nbformat": 4,
 "nbformat_minor": 2
}
